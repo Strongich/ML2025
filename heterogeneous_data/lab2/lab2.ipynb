{
 "cells": [
  {
   "cell_type": "markdown",
   "metadata": {},
   "source": [
    "## Dataset -- https://www.kaggle.com/datasets/alikalwar/uae-used-car-prices-and-features-10k-listings"
   ]
  },
  {
   "cell_type": "code",
   "execution_count": 200,
   "metadata": {},
   "outputs": [],
   "source": [
    "import matplotlib.pyplot as plt\n",
    "import numpy as np\n",
    "import pandas as pd\n",
    "import seaborn as sns\n",
    "from sklearn.model_selection import train_test_split\n",
    "from sklearn.preprocessing import MinMaxScaler, StandardScaler"
   ]
  },
  {
   "cell_type": "code",
   "execution_count": 201,
   "metadata": {},
   "outputs": [
    {
     "name": "stdout",
     "output_type": "stream",
     "text": [
      "dataset size: (10000, 12)\n",
      "dataset columns: Index(['Make', 'Model', 'Year', 'Price', 'Mileage', 'Body Type', 'Cylinders',\n",
      "       'Transmission', 'Fuel Type', 'Color', 'Location', 'Description'],\n",
      "      dtype='object')\n",
      "<class 'pandas.core.frame.DataFrame'>\n",
      "RangeIndex: 10000 entries, 0 to 9999\n",
      "Data columns (total 12 columns):\n",
      " #   Column        Non-Null Count  Dtype \n",
      "---  ------        --------------  ----- \n",
      " 0   Make          10000 non-null  object\n",
      " 1   Model         10000 non-null  object\n",
      " 2   Year          10000 non-null  int64 \n",
      " 3   Price         10000 non-null  int64 \n",
      " 4   Mileage       10000 non-null  int64 \n",
      " 5   Body Type     10000 non-null  object\n",
      " 6   Cylinders     9895 non-null   object\n",
      " 7   Transmission  10000 non-null  object\n",
      " 8   Fuel Type     10000 non-null  object\n",
      " 9   Color         10000 non-null  object\n",
      " 10  Location      10000 non-null  object\n",
      " 11  Description   10000 non-null  object\n",
      "dtypes: int64(3), object(9)\n",
      "memory usage: 937.6+ KB\n",
      "dataset info: None\n"
     ]
    },
    {
     "data": {
      "text/html": [
       "<div>\n",
       "<style scoped>\n",
       "    .dataframe tbody tr th:only-of-type {\n",
       "        vertical-align: middle;\n",
       "    }\n",
       "\n",
       "    .dataframe tbody tr th {\n",
       "        vertical-align: top;\n",
       "    }\n",
       "\n",
       "    .dataframe thead th {\n",
       "        text-align: right;\n",
       "    }\n",
       "</style>\n",
       "<table border=\"1\" class=\"dataframe\">\n",
       "  <thead>\n",
       "    <tr style=\"text-align: right;\">\n",
       "      <th></th>\n",
       "      <th>Make</th>\n",
       "      <th>Model</th>\n",
       "      <th>Year</th>\n",
       "      <th>Price</th>\n",
       "      <th>Mileage</th>\n",
       "      <th>Body Type</th>\n",
       "      <th>Cylinders</th>\n",
       "      <th>Transmission</th>\n",
       "      <th>Fuel Type</th>\n",
       "      <th>Color</th>\n",
       "      <th>Location</th>\n",
       "      <th>Description</th>\n",
       "    </tr>\n",
       "  </thead>\n",
       "  <tbody>\n",
       "    <tr>\n",
       "      <th>0</th>\n",
       "      <td>toyota</td>\n",
       "      <td>camry</td>\n",
       "      <td>2016</td>\n",
       "      <td>47819</td>\n",
       "      <td>156500</td>\n",
       "      <td>Sedan</td>\n",
       "      <td>4</td>\n",
       "      <td>Automatic Transmission</td>\n",
       "      <td>Gasoline</td>\n",
       "      <td>Black</td>\n",
       "      <td>Dubai</td>\n",
       "      <td>2016 toyota camry with Rear camera, Leather se...</td>\n",
       "    </tr>\n",
       "    <tr>\n",
       "      <th>1</th>\n",
       "      <td>kia</td>\n",
       "      <td>sorento</td>\n",
       "      <td>2013</td>\n",
       "      <td>61250</td>\n",
       "      <td>169543</td>\n",
       "      <td>SUV</td>\n",
       "      <td>4</td>\n",
       "      <td>Automatic Transmission</td>\n",
       "      <td>Gasoline</td>\n",
       "      <td>Grey</td>\n",
       "      <td>Abu Dhabi</td>\n",
       "      <td>2013 kia sorento with Sunroof, Adaptive cruise...</td>\n",
       "    </tr>\n",
       "    <tr>\n",
       "      <th>2</th>\n",
       "      <td>mini</td>\n",
       "      <td>cooper</td>\n",
       "      <td>2023</td>\n",
       "      <td>31861</td>\n",
       "      <td>221583</td>\n",
       "      <td>Soft Top Convertible</td>\n",
       "      <td>4</td>\n",
       "      <td>Automatic Transmission</td>\n",
       "      <td>Gasoline</td>\n",
       "      <td>Grey</td>\n",
       "      <td>Dubai</td>\n",
       "      <td>2023 mini cooper with Adaptive cruise control,...</td>\n",
       "    </tr>\n",
       "    <tr>\n",
       "      <th>3</th>\n",
       "      <td>nissan</td>\n",
       "      <td>altima</td>\n",
       "      <td>2016</td>\n",
       "      <td>110322</td>\n",
       "      <td>69754</td>\n",
       "      <td>Sedan</td>\n",
       "      <td>4</td>\n",
       "      <td>Automatic Transmission</td>\n",
       "      <td>Gasoline</td>\n",
       "      <td>Red</td>\n",
       "      <td>Dubai</td>\n",
       "      <td>2016 nissan altima with Rear camera, Adaptive ...</td>\n",
       "    </tr>\n",
       "    <tr>\n",
       "      <th>4</th>\n",
       "      <td>toyota</td>\n",
       "      <td>land-cruiser-76-series</td>\n",
       "      <td>2020</td>\n",
       "      <td>139994</td>\n",
       "      <td>71399</td>\n",
       "      <td>Pick Up Truck</td>\n",
       "      <td>4</td>\n",
       "      <td>Manual Transmission</td>\n",
       "      <td>Gasoline</td>\n",
       "      <td>White</td>\n",
       "      <td>Dubai</td>\n",
       "      <td>2020 toyota land-cruiser-76-series with Adapti...</td>\n",
       "    </tr>\n",
       "  </tbody>\n",
       "</table>\n",
       "</div>"
      ],
      "text/plain": [
       "     Make                   Model  Year   Price  Mileage  \\\n",
       "0  toyota                   camry  2016   47819   156500   \n",
       "1     kia                 sorento  2013   61250   169543   \n",
       "2    mini                  cooper  2023   31861   221583   \n",
       "3  nissan                  altima  2016  110322    69754   \n",
       "4  toyota  land-cruiser-76-series  2020  139994    71399   \n",
       "\n",
       "              Body Type Cylinders            Transmission Fuel Type  Color  \\\n",
       "0                 Sedan         4  Automatic Transmission  Gasoline  Black   \n",
       "1                   SUV         4  Automatic Transmission  Gasoline   Grey   \n",
       "2  Soft Top Convertible         4  Automatic Transmission  Gasoline   Grey   \n",
       "3                 Sedan         4  Automatic Transmission  Gasoline    Red   \n",
       "4         Pick Up Truck         4     Manual Transmission  Gasoline  White   \n",
       "\n",
       "     Location                                        Description  \n",
       "0       Dubai  2016 toyota camry with Rear camera, Leather se...  \n",
       "1   Abu Dhabi  2013 kia sorento with Sunroof, Adaptive cruise...  \n",
       "2       Dubai  2023 mini cooper with Adaptive cruise control,...  \n",
       "3       Dubai  2016 nissan altima with Rear camera, Adaptive ...  \n",
       "4       Dubai  2020 toyota land-cruiser-76-series with Adapti...  "
      ]
     },
     "execution_count": 201,
     "metadata": {},
     "output_type": "execute_result"
    }
   ],
   "source": [
    "data = pd.read_csv('uae_used_cars_10k.csv')\n",
    "print(f\"dataset size: {data.shape}\")    \n",
    "print(f\"dataset columns: {data.columns}\")\n",
    "print(f\"dataset info: {data.info()}\")\n",
    "data.head()"
   ]
  },
  {
   "cell_type": "code",
   "execution_count": 202,
   "metadata": {},
   "outputs": [
    {
     "data": {
      "text/plain": [
       "Make              0\n",
       "Model             0\n",
       "Year              0\n",
       "Price             0\n",
       "Mileage           0\n",
       "Body Type         0\n",
       "Cylinders       105\n",
       "Transmission      0\n",
       "Fuel Type         0\n",
       "Color             0\n",
       "Location          0\n",
       "Description       0\n",
       "dtype: int64"
      ]
     },
     "execution_count": 202,
     "metadata": {},
     "output_type": "execute_result"
    }
   ],
   "source": [
    "data.isna().sum()"
   ]
  },
  {
   "cell_type": "code",
   "execution_count": 203,
   "metadata": {},
   "outputs": [],
   "source": [
    "# fill cylinder column with mode value and change \"Unknown\" to mode value\n",
    "data['Cylinders'] = data['Cylinders'].replace('Unknown', np.nan)\n",
    "data['Cylinders'] = data['Cylinders'].fillna(data['Cylinders'].mode()[0])\n",
    "data['Cylinders'] = data['Cylinders'].astype(int)"
   ]
  },
  {
   "cell_type": "code",
   "execution_count": 204,
   "metadata": {},
   "outputs": [
    {
     "name": "stdout",
     "output_type": "stream",
     "text": [
      "<class 'pandas.core.frame.DataFrame'>\n",
      "RangeIndex: 10000 entries, 0 to 9999\n",
      "Data columns (total 8 columns):\n",
      " #   Column        Non-Null Count  Dtype \n",
      "---  ------        --------------  ----- \n",
      " 0   Make          10000 non-null  object\n",
      " 1   Year          10000 non-null  int64 \n",
      " 2   Price         10000 non-null  int64 \n",
      " 3   Mileage       10000 non-null  int64 \n",
      " 4   Body Type     10000 non-null  object\n",
      " 5   Cylinders     10000 non-null  int64 \n",
      " 6   Transmission  10000 non-null  object\n",
      " 7   Fuel Type     10000 non-null  object\n",
      "dtypes: int64(4), object(4)\n",
      "memory usage: 625.1+ KB\n"
     ]
    }
   ],
   "source": [
    "data = data.drop(\"Description\", axis=1)\n",
    "data = data.drop(\"Location\", axis=1)\n",
    "data = data.drop(\"Model\", axis=1)\n",
    "data = data.drop(\"Color\", axis=1)\n",
    "data.info()"
   ]
  },
  {
   "cell_type": "code",
   "execution_count": 205,
   "metadata": {},
   "outputs": [
    {
     "name": "stdout",
     "output_type": "stream",
     "text": [
      "numerical data: Index(['Year', 'Price', 'Mileage', 'Cylinders'], dtype='object')\n"
     ]
    },
    {
     "data": {
      "image/png": "[encoded data removed]",
      "text/plain": [
       "<Figure size 640x480 with 2 Axes>"
      ]
     },
     "metadata": {},
     "output_type": "display_data"
    }
   ],
   "source": [
    "# set numerical_data to all numerical columns\n",
    "numerical_data = data.select_dtypes(include=[np.number])\n",
    "print(f\"numerical data: {numerical_data.columns}\")\n",
    "mask = np.zeros_like(numerical_data.corr())\n",
    "mask[np.triu_indices_from(mask)] = True \n",
    "sns.heatmap(numerical_data.corr(), annot=True, mask=mask, cmap='coolwarm')\n",
    "plt.show()"
   ]
  },
  {
   "cell_type": "markdown",
   "metadata": {},
   "source": [
    "# Base model"
   ]
  },
  {
   "cell_type": "code",
   "execution_count": 206,
   "metadata": {},
   "outputs": [
    {
     "name": "stdout",
     "output_type": "stream",
     "text": [
      "X_train shape: (8000, 3)\n",
      "X_test shape: (2000, 3)\n"
     ]
    }
   ],
   "source": [
    "X_train, X_test, y_train, y_test = train_test_split(numerical_data.drop('Price', axis=1), numerical_data['Price'], test_size=0.2, random_state=42)\n",
    "print(f\"X_train shape: {X_train.shape}\")\n",
    "print(f\"X_test shape: {X_test.shape}\")"
   ]
  },
  {
   "cell_type": "code",
   "execution_count": 207,
   "metadata": {},
   "outputs": [
    {
     "name": "stdout",
     "output_type": "stream",
     "text": [
      "root mean squared error: 464905.8858062143\n",
      "RMSE to variance ratio: 0.9079641260690466\n"
     ]
    }
   ],
   "source": [
    "from sklearn.linear_model import Ridge\n",
    "from sklearn.metrics import mean_squared_error\n",
    "\n",
    "\n",
    "def root_mean_squared_error(y_true, y_pred):\n",
    "    return np.sqrt(mean_squared_error(y_true, y_pred))\n",
    "\n",
    "model = Ridge()\n",
    "model.fit(X_train, y_train)\n",
    "y_pred = model.predict(X_test)\n",
    "print(f\"root mean squared error: {root_mean_squared_error(y_test, y_pred)}\")\n",
    "base_metric = root_mean_squared_error(y_test, y_pred) / np.std(y_test)\n",
    "print(f\"RMSE to variance ratio: {base_metric}\")"
   ]
  },
  {
   "cell_type": "markdown",
   "metadata": {},
   "source": [
    "## Feature engineering section"
   ]
  },
  {
   "cell_type": "code",
   "execution_count": 208,
   "metadata": {},
   "outputs": [
    {
     "data": {
      "text/plain": [
       "Index(['Make', 'Year', 'Price', 'Mileage', 'Body Type', 'Cylinders',\n",
       "       'Transmission', 'Fuel Type', 'Color', 'Location'],\n",
       "      dtype='object')"
      ]
     },
     "execution_count": 208,
     "metadata": {},
     "output_type": "execute_result"
    }
   ],
   "source": [
    "feature_data = pd.read_csv('uae_used_cars_10k.csv')\n",
    "feature_data = feature_data.drop([\"Description\", \"Model\"], axis=1)\n",
    "feature_data.columns"
   ]
  },
  {
   "cell_type": "code",
   "execution_count": 209,
   "metadata": {},
   "outputs": [
    {
     "data": {
      "text/plain": [
       "Make\n",
       "Other            2065\n",
       "mercedes-benz    1486\n",
       "nissan            925\n",
       "toyota            893\n",
       "bmw               698\n",
       "ford              541\n",
       "land-rover        538\n",
       "porsche           450\n",
       "audi              397\n",
       "jeep              345\n",
       "lexus             339\n",
       "chevrolet         303\n",
       "mitsubishi        293\n",
       "dodge             278\n",
       "volkswagen        234\n",
       "hyundai           215\n",
       "Name: count, dtype: int64"
      ]
     },
     "execution_count": 209,
     "metadata": {},
     "output_type": "execute_result"
    }
   ],
   "source": [
    "# feature_data['Make'].value_counts() if less than 200 -> set to \"Other\"\n",
    "feature_data['Make'] = feature_data['Make'].apply(lambda x: x if feature_data['Make'].value_counts()[x] > 200 else 'Other')\n",
    "feature_data['Make'].value_counts()"
   ]
  },
  {
   "cell_type": "code",
   "execution_count": 210,
   "metadata": {},
   "outputs": [
    {
     "data": {
      "text/plain": [
       "Year\n",
       "2005    517\n",
       "2006    512\n",
       "2007    502\n",
       "2008    505\n",
       "2009    491\n",
       "2010    521\n",
       "2011    480\n",
       "2012    509\n",
       "2013    493\n",
       "2014    497\n",
       "2015    463\n",
       "2016    497\n",
       "2017    494\n",
       "2018    506\n",
       "2019    521\n",
       "2020    506\n",
       "2021    487\n",
       "2022    504\n",
       "2023    484\n",
       "2024    511\n",
       "Name: count, dtype: int64"
      ]
     },
     "execution_count": 210,
     "metadata": {},
     "output_type": "execute_result"
    }
   ],
   "source": [
    "feature_data[\"Year\"].value_counts().sort_index()"
   ]
  },
  {
   "cell_type": "code",
   "execution_count": 211,
   "metadata": {},
   "outputs": [
    {
     "data": {
      "text/html": [
       "<div>\n",
       "<style scoped>\n",
       "    .dataframe tbody tr th:only-of-type {\n",
       "        vertical-align: middle;\n",
       "    }\n",
       "\n",
       "    .dataframe tbody tr th {\n",
       "        vertical-align: top;\n",
       "    }\n",
       "\n",
       "    .dataframe thead th {\n",
       "        text-align: right;\n",
       "    }\n",
       "</style>\n",
       "<table border=\"1\" class=\"dataframe\">\n",
       "  <thead>\n",
       "    <tr style=\"text-align: right;\">\n",
       "      <th></th>\n",
       "      <th>Make</th>\n",
       "      <th>Year</th>\n",
       "      <th>Price</th>\n",
       "      <th>Mileage</th>\n",
       "      <th>Body Type</th>\n",
       "      <th>Cylinders</th>\n",
       "      <th>Transmission</th>\n",
       "      <th>Fuel Type</th>\n",
       "      <th>Color</th>\n",
       "      <th>Location</th>\n",
       "      <th>age</th>\n",
       "      <th>km/year</th>\n",
       "    </tr>\n",
       "  </thead>\n",
       "  <tbody>\n",
       "    <tr>\n",
       "      <th>0</th>\n",
       "      <td>toyota</td>\n",
       "      <td>2016</td>\n",
       "      <td>47819</td>\n",
       "      <td>156500</td>\n",
       "      <td>Sedan</td>\n",
       "      <td>4</td>\n",
       "      <td>Automatic Transmission</td>\n",
       "      <td>Gasoline</td>\n",
       "      <td>Black</td>\n",
       "      <td>Dubai</td>\n",
       "      <td>9</td>\n",
       "      <td>17388.888889</td>\n",
       "    </tr>\n",
       "    <tr>\n",
       "      <th>1</th>\n",
       "      <td>Other</td>\n",
       "      <td>2013</td>\n",
       "      <td>61250</td>\n",
       "      <td>169543</td>\n",
       "      <td>SUV</td>\n",
       "      <td>4</td>\n",
       "      <td>Automatic Transmission</td>\n",
       "      <td>Gasoline</td>\n",
       "      <td>Grey</td>\n",
       "      <td>Abu Dhabi</td>\n",
       "      <td>12</td>\n",
       "      <td>14128.583333</td>\n",
       "    </tr>\n",
       "    <tr>\n",
       "      <th>2</th>\n",
       "      <td>Other</td>\n",
       "      <td>2023</td>\n",
       "      <td>31861</td>\n",
       "      <td>221583</td>\n",
       "      <td>Soft Top Convertible</td>\n",
       "      <td>4</td>\n",
       "      <td>Automatic Transmission</td>\n",
       "      <td>Gasoline</td>\n",
       "      <td>Grey</td>\n",
       "      <td>Dubai</td>\n",
       "      <td>2</td>\n",
       "      <td>110791.500000</td>\n",
       "    </tr>\n",
       "    <tr>\n",
       "      <th>3</th>\n",
       "      <td>nissan</td>\n",
       "      <td>2016</td>\n",
       "      <td>110322</td>\n",
       "      <td>69754</td>\n",
       "      <td>Sedan</td>\n",
       "      <td>4</td>\n",
       "      <td>Automatic Transmission</td>\n",
       "      <td>Gasoline</td>\n",
       "      <td>Red</td>\n",
       "      <td>Dubai</td>\n",
       "      <td>9</td>\n",
       "      <td>7750.444444</td>\n",
       "    </tr>\n",
       "    <tr>\n",
       "      <th>4</th>\n",
       "      <td>toyota</td>\n",
       "      <td>2020</td>\n",
       "      <td>139994</td>\n",
       "      <td>71399</td>\n",
       "      <td>Pick Up Truck</td>\n",
       "      <td>4</td>\n",
       "      <td>Manual Transmission</td>\n",
       "      <td>Gasoline</td>\n",
       "      <td>White</td>\n",
       "      <td>Dubai</td>\n",
       "      <td>5</td>\n",
       "      <td>14279.800000</td>\n",
       "    </tr>\n",
       "  </tbody>\n",
       "</table>\n",
       "</div>"
      ],
      "text/plain": [
       "     Make  Year   Price  Mileage             Body Type Cylinders  \\\n",
       "0  toyota  2016   47819   156500                 Sedan         4   \n",
       "1   Other  2013   61250   169543                   SUV         4   \n",
       "2   Other  2023   31861   221583  Soft Top Convertible         4   \n",
       "3  nissan  2016  110322    69754                 Sedan         4   \n",
       "4  toyota  2020  139994    71399         Pick Up Truck         4   \n",
       "\n",
       "             Transmission Fuel Type  Color    Location  age        km/year  \n",
       "0  Automatic Transmission  Gasoline  Black       Dubai    9   17388.888889  \n",
       "1  Automatic Transmission  Gasoline   Grey   Abu Dhabi   12   14128.583333  \n",
       "2  Automatic Transmission  Gasoline   Grey       Dubai    2  110791.500000  \n",
       "3  Automatic Transmission  Gasoline    Red       Dubai    9    7750.444444  \n",
       "4     Manual Transmission  Gasoline  White       Dubai    5   14279.800000  "
      ]
     },
     "execution_count": 211,
     "metadata": {},
     "output_type": "execute_result"
    }
   ],
   "source": [
    "feature_data['age']=2025-feature_data['Year']\n",
    "\n",
    "feature_data['km/year']=feature_data['Mileage']/feature_data['age']\n",
    "\n",
    "feature_data.head()"
   ]
  },
  {
   "cell_type": "code",
   "execution_count": 212,
   "metadata": {},
   "outputs": [
    {
     "data": {
      "text/plain": [
       "Transmission\n",
       "Automatic Transmission    9626\n",
       "Manual Transmission        374\n",
       "Name: count, dtype: int64"
      ]
     },
     "execution_count": 212,
     "metadata": {},
     "output_type": "execute_result"
    }
   ],
   "source": [
    "data[\"Transmission\"].value_counts()"
   ]
  },
  {
   "cell_type": "code",
   "execution_count": 213,
   "metadata": {},
   "outputs": [
    {
     "data": {
      "text/plain": [
       "Fuel Type\n",
       "Gasoline    9714\n",
       "Diesel       153\n",
       "Electric     110\n",
       "Hybrid        23\n",
       "Name: count, dtype: int64"
      ]
     },
     "execution_count": 213,
     "metadata": {},
     "output_type": "execute_result"
    }
   ],
   "source": [
    "data[\"Fuel Type\"].value_counts()"
   ]
  },
  {
   "cell_type": "code",
   "execution_count": 214,
   "metadata": {},
   "outputs": [],
   "source": [
    "#one-hot encoding for Transmission and Fuel Type and Mark and Body Type\n",
    "data = pd.get_dummies(data, columns=['Transmission', 'Fuel Type', \"Make\", \"Body Type\"])"
   ]
  },
  {
   "cell_type": "code",
   "execution_count": 215,
   "metadata": {},
   "outputs": [
    {
     "name": "stdout",
     "output_type": "stream",
     "text": [
      "X_train shape: (8000, 87)\n",
      "X_test shape: (2000, 87)\n",
      "root mean squared error: 383586.5599581743\n",
      "RMSE to variance ratio: 0.7491469699943305\n",
      "We improved the model by 0.15881715607471614\n"
     ]
    }
   ],
   "source": [
    "# normalize numerical data except Target Price  \n",
    "scaler = StandardScaler()\n",
    "data[numerical_data.drop('Price', axis=1).columns] = scaler.fit_transform(data[numerical_data.drop('Price', axis=1).columns])\n",
    "X_train, X_test, y_train, y_test = train_test_split(data.drop('Price', axis=1), data['Price'], test_size=0.2, random_state=42)\n",
    "print(f\"X_train shape: {X_train.shape}\")\n",
    "print(f\"X_test shape: {X_test.shape}\")\n",
    "\n",
    "model = Ridge()\n",
    "model.fit(X_train, y_train)\n",
    "y_pred = model.predict(X_test)\n",
    "print(f\"root mean squared error: {root_mean_squared_error(y_test, y_pred)}\")\n",
    "new_metric = root_mean_squared_error(y_test, y_pred) / np.std(y_test)\n",
    "print(f\"RMSE to variance ratio: {new_metric}\")  \n",
    "print(f\"We improved the model by {base_metric - new_metric}\")"
   ]
  },
  {
   "cell_type": "markdown",
   "metadata": {},
   "source": [
    "### 15% on basic feature changes - cool, let's try something really hard "
   ]
  },
  {
   "cell_type": "code",
   "execution_count": 216,
   "metadata": {},
   "outputs": [
    {
     "name": "stdout",
     "output_type": "stream",
     "text": [
      "root mean squared error: 243589.95758064341\n",
      "RMSE to variance ratio: 0.4757327229152251\n",
      "We improved the model by 0.4322314031538215\n"
     ]
    }
   ],
   "source": [
    "import pandas as pd\n",
    "from sklearn.metrics import mean_absolute_error, mean_squared_error, r2_score\n",
    "from sklearn.model_selection import train_test_split\n",
    "from sklearn.tree import DecisionTreeRegressor\n",
    "\n",
    "# 1. Load dataset\n",
    "df = pd.read_csv('uae_used_cars_10k.csv')\n",
    "\n",
    "# 2. (Optional) Drop or transform the 'Description\n",
    "df = df.drop(columns=['Description'])\n",
    "df['age']=2025-df['Year']\n",
    "\n",
    "df['km/year']=df['Mileage']/df['age']\n",
    "\n",
    "df.head()\n",
    "# 3. Separate features (X) and target (y)\n",
    "X = df.drop('Price', axis=1)\n",
    "scaler = ()\n",
    "y = df['Price']\n",
    "scaler = MinMaxScaler()\n",
    "# 4. Identify categorical columns (object dtype) and apply One-Hot Encoding\n",
    "categorical_cols = X.select_dtypes(include=['object']).columns\n",
    "X_encoded = pd.get_dummies(X, columns=categorical_cols, drop_first=True)\n",
    "X_encoded = scaler.fit_transform(X_encoded)\n",
    "# 5. Split the data into training and test sets (80/20 split)\n",
    "X_train, X_test, y_train, y_test = train_test_split(\n",
    "    X_encoded, \n",
    "    y, \n",
    "    test_size=0.2, \n",
    "    random_state=42\n",
    ")\n",
    "\n",
    "# 6. Create and train the Decision Tree Regressor\n",
    "model = DecisionTreeRegressor(random_state=42, max_depth=15)\n",
    "model.fit(X_train, y_train)\n",
    "\n",
    "# 7. Make predictions on the test set\n",
    "y_pred = model.predict(X_test)\n",
    "\n",
    "print(f\"root mean squared error: {root_mean_squared_error(y_test, y_pred)}\")\n",
    "new_metric = root_mean_squared_error(y_test, y_pred) / np.std(y_test)\n",
    "print(f\"RMSE to variance ratio: {new_metric}\")  \n",
    "print(f\"We improved the model by {base_metric - new_metric}\") "
   ]
  },
  {
   "cell_type": "markdown",
   "metadata": {},
   "source": [
    "# Results\n",
    "\n",
    "1. **Model Improvement:**  \n",
    "   Using the DecisionTreeRegressor, we improved the model by 43% of the described variance.\n",
    "\n",
    "2. **Pipeline Recommendation:**  \n",
    "   Since the dataset contains very expensive cars, the next pipeline should integrate a classification stage followed by a regression model or a neural network, rather than relying solely on a DecisionTreeRegressor.\n",
    "\n",
    "3. **Data Distribution Insights:**  \n",
    "   Additionally, the analysis did not focus on the distribution of the data, which could potentially provide further insights.\n"
   ]
  }
 ],
 "metadata": {
  "kernelspec": {
   "display_name": "main",
   "language": "python",
   "name": "python3"
  },
  "language_info": {
   "codemirror_mode": {
    "name": "ipython",
    "version": 3
   },
   "file_extension": ".py",
   "mimetype": "text/x-python",
   "name": "python",
   "nbconvert_exporter": "python",
   "pygments_lexer": "ipython3",
   "version": "3.11.5"
  }
 },
 "nbformat": 4,
 "nbformat_minor": 2
}
